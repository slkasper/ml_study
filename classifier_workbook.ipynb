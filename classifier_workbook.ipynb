{
 "cells": [
  {
   "cell_type": "markdown",
   "id": "c380cbf7-aed2-4578-b80a-387709d98830",
   "metadata": {},
   "source": [
    "# Classifier Metrics Worksheet"
   ]
  },
  {
   "cell_type": "code",
   "execution_count": 1,
   "id": "9155493b-a6be-4a08-9c9b-8b2deb3f7134",
   "metadata": {},
   "outputs": [
    {
     "name": "stderr",
     "output_type": "stream",
     "text": [
      "/var/folders/z9/_7_397gj4ksf314n84j8mhcr0000gn/T/ipykernel_64166/2162656668.py:1: DeprecationWarning: \n",
      "Pyarrow will become a required dependency of pandas in the next major release of pandas (pandas 3.0),\n",
      "(to allow more performant data types, such as the Arrow string type, and better interoperability with other libraries)\n",
      "but was not found to be installed on your system.\n",
      "If this would cause problems for you,\n",
      "please provide us feedback at https://github.com/pandas-dev/pandas/issues/54466\n",
      "        \n",
      "  import pandas as pd\n"
     ]
    }
   ],
   "source": [
    "import pandas as pd\n",
    "import numpy as np"
   ]
  },
  {
   "cell_type": "markdown",
   "id": "f8687f0c-049a-4d3f-8200-513649158426",
   "metadata": {},
   "source": [
    "## Class Labels Toy Dataset"
   ]
  },
  {
   "cell_type": "code",
   "execution_count": 8,
   "id": "3c12960a-1ec0-493d-aa97-b9fab0718006",
   "metadata": {},
   "outputs": [],
   "source": [
    "def make_class_labels(n:int) -> pd.DataFrame:\n",
    "    \"\"\"make a toy dataset of classifier predictions\n",
    "    returns a df with columns y_true and y_pred\"\"\"\n",
    "    y_true = np.random.randint(2, size=n)\n",
    "    y_pred = np.random.randint(2, size=n)\n",
    "    pct = int(round(.2 * n, 0))\n",
    "    y_pred[:pct] = y_true[:pct]\n",
    "    return pd.DataFrame({\"y_true\": y_true, \"y_pred\": y_pred})"
   ]
  },
  {
   "cell_type": "code",
   "execution_count": 9,
   "id": "a5f75ddf-a185-4c60-a6fa-38c2e7e89c0b",
   "metadata": {},
   "outputs": [],
   "source": [
    "df = make_class_labels(100)\n",
    "df.head()"
   ]
  },
  {
   "cell_type": "markdown",
   "id": "44536c2f-af1b-4587-a1e9-6edfb77dc05e",
   "metadata": {},
   "source": [
    "## Classifier Metrics\n",
    "Metrics that use class labels (NOT probabilities)"
   ]
  },
  {
   "cell_type": "code",
   "execution_count": 14,
   "id": "33408e4a-450a-401a-ac63-92132bb0e4fc",
   "metadata": {},
   "outputs": [
    {
     "data": {
      "text/html": [
       "<div>\n",
       "<style scoped>\n",
       "    .dataframe tbody tr th:only-of-type {\n",
       "        vertical-align: middle;\n",
       "    }\n",
       "\n",
       "    .dataframe tbody tr th {\n",
       "        vertical-align: top;\n",
       "    }\n",
       "\n",
       "    .dataframe thead th {\n",
       "        text-align: right;\n",
       "    }\n",
       "</style>\n",
       "<table border=\"1\" class=\"dataframe\">\n",
       "  <thead>\n",
       "    <tr style=\"text-align: right;\">\n",
       "      <th>y_pred</th>\n",
       "      <th>0</th>\n",
       "      <th>1</th>\n",
       "    </tr>\n",
       "    <tr>\n",
       "      <th>y_true</th>\n",
       "      <th></th>\n",
       "      <th></th>\n",
       "    </tr>\n",
       "  </thead>\n",
       "  <tbody>\n",
       "    <tr>\n",
       "      <th>0</th>\n",
       "      <td>26</td>\n",
       "      <td>26</td>\n",
       "    </tr>\n",
       "    <tr>\n",
       "      <th>1</th>\n",
       "      <td>20</td>\n",
       "      <td>28</td>\n",
       "    </tr>\n",
       "  </tbody>\n",
       "</table>\n",
       "</div>"
      ],
      "text/plain": [
       "y_pred   0   1\n",
       "y_true        \n",
       "0       26  26\n",
       "1       20  28"
      ]
     },
     "execution_count": 14,
     "metadata": {},
     "output_type": "execute_result"
    }
   ],
   "source": [
    "# confusion matrix\n",
    "ct = pd.crosstab(df[\"y_true\"], df[\"y_pred\"])\n",
    "ct"
   ]
  },
  {
   "cell_type": "code",
   "execution_count": null,
   "id": "8f52bad9-cf74-4814-bad4-df51449f99bb",
   "metadata": {},
   "outputs": [],
   "source": [
    "# get the results below by parsing the dataframe e.g. tp = ct.iloc[1,1]\n",
    "\n",
    "# true positive\n",
    "tp =\n",
    "\n",
    "# false positive\n",
    "fp = \n",
    "\n",
    "# true negative\n",
    "tn = \n",
    "\n",
    "# false negative\n",
    "fn = "
   ]
  },
  {
   "cell_type": "code",
   "execution_count": null,
   "id": "f73312f7-e9f7-4924-ad02-a6f5016ea8fa",
   "metadata": {},
   "outputs": [],
   "source": [
    "# precision\n",
    "# write the definition\n",
    "prec = "
   ]
  },
  {
   "cell_type": "code",
   "execution_count": 12,
   "id": "1c4b07c6-00c8-4e91-9d74-e2a0ee922f4e",
   "metadata": {},
   "outputs": [
    {
     "ename": "SyntaxError",
     "evalue": "invalid syntax (3817097457.py, line 2)",
     "output_type": "error",
     "traceback": [
      "\u001b[0;36m  Cell \u001b[0;32mIn[12], line 2\u001b[0;36m\u001b[0m\n\u001b[0;31m    rec =\u001b[0m\n\u001b[0m          ^\u001b[0m\n\u001b[0;31mSyntaxError\u001b[0m\u001b[0;31m:\u001b[0m invalid syntax\n"
     ]
    }
   ],
   "source": [
    "# recall\n",
    "# write the definition\n",
    "rec = "
   ]
  },
  {
   "cell_type": "code",
   "execution_count": null,
   "id": "4dda3268-06a0-4e7f-bc9c-20db59ac6077",
   "metadata": {},
   "outputs": [],
   "source": [
    "# f1-score\n",
    "f1 = "
   ]
  },
  {
   "cell_type": "code",
   "execution_count": null,
   "id": "81dc332c-9e89-48b8-aa0e-6a97f1700ea6",
   "metadata": {},
   "outputs": [],
   "source": [
    "# accuracy\n",
    "acc = "
   ]
  },
  {
   "cell_type": "markdown",
   "id": "c2478ada-90bf-4da8-918a-f497ff6e8c12",
   "metadata": {},
   "source": [
    "### Putting it all together into a Function"
   ]
  },
  {
   "cell_type": "code",
   "execution_count": null,
   "id": "c2e4e7a5-ffbb-4c8e-9a03-8e41514a8e44",
   "metadata": {},
   "outputs": [],
   "source": [
    "# write a function that calculates all of these metrics given a df with cols y_true, y_pred\n",
    "def classifier_metrics(df: pd.DataFrame) -> None:\n",
    "    # TODO - your code here\n",
    "    print(f\"precision: {prec}\")\n",
    "    print(f\"recall: {rec}\")\n",
    "    print(f\"f1: {f1}\")\n",
    "    print(f\"accuracy: {acc}\")"
   ]
  },
  {
   "cell_type": "markdown",
   "id": "5faf5979-11af-4dee-bbe7-2bf3ca89130d",
   "metadata": {},
   "source": [
    "# Class Probabilities"
   ]
  },
  {
   "cell_type": "code",
   "execution_count": 40,
   "id": "5e9e0885-8795-4418-8055-8f38e845d7db",
   "metadata": {},
   "outputs": [],
   "source": [
    "def make_class_prob(n = 10, p = .7) -> pd.DataFrame:\n",
    "    \"\"\"make a toy dataset of y_true labels and predicted class probabilities\"\"\"\n",
    "    r = np.random.normal(0, .25, n) # randomness\n",
    "    d = np.random.rand(n) # probability used to predict the true class\n",
    "    \n",
    "    y_true =np.where(d >= p, 1, 0) # class labels\n",
    "    y_prob = (d + r).clip(.01, .99) # simulate a model by taking probability + random error as predicted prob\n",
    "    return pd.DataFrame({\"y_true\": y_true, \"y_prob\": y_prob})\n"
   ]
  },
  {
   "cell_type": "code",
   "execution_count": 41,
   "id": "e47579fe-5d16-47bd-aa59-b8298350a015",
   "metadata": {},
   "outputs": [],
   "source": [
    "x = make_class_prob(100)"
   ]
  },
  {
   "cell_type": "code",
   "execution_count": 42,
   "id": "181fb409-43d8-4405-8b52-4967c2911949",
   "metadata": {},
   "outputs": [
    {
     "data": {
      "text/html": [
       "<div>\n",
       "<style scoped>\n",
       "    .dataframe tbody tr th:only-of-type {\n",
       "        vertical-align: middle;\n",
       "    }\n",
       "\n",
       "    .dataframe tbody tr th {\n",
       "        vertical-align: top;\n",
       "    }\n",
       "\n",
       "    .dataframe thead th {\n",
       "        text-align: right;\n",
       "    }\n",
       "</style>\n",
       "<table border=\"1\" class=\"dataframe\">\n",
       "  <thead>\n",
       "    <tr style=\"text-align: right;\">\n",
       "      <th></th>\n",
       "      <th>y_true</th>\n",
       "      <th>y_prob</th>\n",
       "    </tr>\n",
       "  </thead>\n",
       "  <tbody>\n",
       "    <tr>\n",
       "      <th>0</th>\n",
       "      <td>1</td>\n",
       "      <td>0.966966</td>\n",
       "    </tr>\n",
       "    <tr>\n",
       "      <th>1</th>\n",
       "      <td>0</td>\n",
       "      <td>0.340319</td>\n",
       "    </tr>\n",
       "    <tr>\n",
       "      <th>2</th>\n",
       "      <td>0</td>\n",
       "      <td>0.159384</td>\n",
       "    </tr>\n",
       "    <tr>\n",
       "      <th>3</th>\n",
       "      <td>0</td>\n",
       "      <td>0.224972</td>\n",
       "    </tr>\n",
       "    <tr>\n",
       "      <th>4</th>\n",
       "      <td>1</td>\n",
       "      <td>0.679301</td>\n",
       "    </tr>\n",
       "  </tbody>\n",
       "</table>\n",
       "</div>"
      ],
      "text/plain": [
       "   y_true    y_prob\n",
       "0       1  0.966966\n",
       "1       0  0.340319\n",
       "2       0  0.159384\n",
       "3       0  0.224972\n",
       "4       1  0.679301"
      ]
     },
     "execution_count": 42,
     "metadata": {},
     "output_type": "execute_result"
    }
   ],
   "source": [
    "x.head()"
   ]
  },
  {
   "cell_type": "code",
   "execution_count": null,
   "id": "46edbf25-6618-41b4-aea6-c54d5fb6008a",
   "metadata": {},
   "outputs": [],
   "source": [
    "# make class labels with a .5 probability threshold\n",
    "# calculate the metrics above"
   ]
  },
  {
   "cell_type": "markdown",
   "id": "619d2b53-3c23-4799-a55d-454aa9bef8fd",
   "metadata": {},
   "source": [
    "### Calculate ROC AUC from scratch"
   ]
  },
  {
   "cell_type": "code",
   "execution_count": 81,
   "id": "078eccc0-1395-4bba-9d96-e49e092a236b",
   "metadata": {},
   "outputs": [
    {
     "data": {
      "image/png": "[encoded data removed]",
      "text/plain": [
       "<Figure size 640x480 with 1 Axes>"
      ]
     },
     "metadata": {},
     "output_type": "display_data"
    }
   ],
   "source": [
    "# this shows if you understand how to calculate ROC\n",
    "\n",
    "# first we set a threshold e.g. .9\n",
    "# then we calculate the class label from the threshold (i.e. when the probability > threshold)\n",
    "# then we calculate true positive RATE and false positive RATE\n",
    "# then we de-increment the threshold and go again\n",
    "\n",
    "pairs = []\n",
    "# thresh = .9\n",
    "for thresh in range(99, 1, -1):\n",
    "    \n",
    "    classes = np.where(x[\"y_prob\"] > thresh/100., 1, 0)\n",
    "\n",
    "    # true positive rate\n",
    "    tpr = ((classes == 1) & (x[\"y_true\"] == 1)).sum() / len(x)\n",
    "    # false positive rate\n",
    "    fpr = ((classes == 1) & (x[\"y_true\"] == 0)).sum() / len(x)\n",
    "    pairs.append((tpr, fpr))\n",
    "\n",
    "# create the receiver operating characteristic\n",
    "roc = pd.DataFrame(pairs, columns=[\"tpr\", \"fpr\"])\n",
    "\n",
    "# make a plot of the ROC\n",
    "roc.plot(kind=\"line\", x=\"fpr\", y=\"tpr\", grid=True,\n",
    "         title=\"Reciever Operating Characteristic (ROC)\", legend=False, \n",
    "         ylabel=\"True Positive Rate\", xlabel=\"False Positive Rate\"\n",
    ");"
   ]
  },
  {
   "cell_type": "code",
   "execution_count": 77,
   "id": "7025545c-ee4d-45bf-83f9-434b3f8e8284",
   "metadata": {},
   "outputs": [
    {
     "data": {
      "text/plain": [
       "0.14045"
      ]
     },
     "execution_count": 77,
     "metadata": {},
     "output_type": "execute_result"
    }
   ],
   "source": [
    "np.trapz(roc[\"tpr\"], roc[\"fpr\"])"
   ]
  },
  {
   "cell_type": "code",
   "execution_count": null,
   "id": "4988fdb0-023b-4fc1-8c86-b3f467440d81",
   "metadata": {},
   "outputs": [],
   "source": []
  }
 ],
 "metadata": {
  "kernelspec": {
   "display_name": "Python 3 (ipykernel)",
   "language": "python",
   "name": "python3"
  },
  "language_info": {
   "codemirror_mode": {
    "name": "ipython",
    "version": 3
   },
   "file_extension": ".py",
   "mimetype": "text/x-python",
   "name": "python",
   "nbconvert_exporter": "python",
   "pygments_lexer": "ipython3",
   "version": "3.10.13"
  }
 },
 "nbformat": 4,
 "nbformat_minor": 5
}
