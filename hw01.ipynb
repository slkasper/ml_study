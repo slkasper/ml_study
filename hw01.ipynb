{
 "cells": [
  {
   "cell_type": "markdown",
   "id": "9139ff1e-7350-4415-8f57-5d4c656ec7e3",
   "metadata": {},
   "source": [
    "# Pandas Crash Course / Workbook"
   ]
  },
  {
   "cell_type": "markdown",
   "id": "d75b8d96-2b1d-4acf-a97f-b2e57541fe05",
   "metadata": {},
   "source": [
    "- what is a pd.Series\n",
    "  - [answer](https://pandas.pydata.org/docs/user_guide/dsintro.html#series)\n",
    "- what is a pd.DataFrame\n",
    "  - [answer](https://pandas.pydata.org/docs/user_guide/10min.html#basic-data-structures-in-pandas)\n",
    "- how are pandas and numpy related?\n",
    "- how is pandas different/'better' than a 2D numpy matrix\n"
   ]
  },
  {
   "cell_type": "markdown",
   "id": "e15a9355-0257-4469-a14c-42ddaa234c8e",
   "metadata": {},
   "source": [
    "### Numpy Array Basics\n",
    "ISLP pdf pg. 52 (notes in markdown)\n",
    "<!-- \n",
    "- numpy\n",
    "  - 2.3.3\n",
    "  - 2.3.5\n",
    "  - 2.3.6 - up to #60 (feel free to read the rest, but you DON\"T NEED TO KNOW IT)\n",
    "- pandas\n",
    "  - 2.3.7\n",
    "  - 2.3.8 optional\n",
    "- assessing model accuracy\n",
    "  - 3.1.3\n",
    " -->"
   ]
  },
  {
   "cell_type": "code",
   "execution_count": 2,
   "id": "6f82fcdc-5032-484c-8cd0-0e793b7f3d04",
   "metadata": {},
   "outputs": [
    {
     "data": {
      "text/plain": [
       "array([[0.88579235, 0.71606708, 0.12651413],\n",
       "       [0.43662694, 0.87515202, 0.80440761]])"
      ]
     },
     "execution_count": 2,
     "metadata": {},
     "output_type": "execute_result"
    }
   ],
   "source": [
    "import numpy as np\n",
    "\n",
    "# create an array of numbers from 1 to 10\n",
    "np.arange(1,11)\n",
    "\n",
    "# using a list \n",
    "np.array(list(range(1,11)))\n",
    "np.array([1,2,3,4,5,6,7,8,9,10])\n",
    "\n",
    "\n",
    "# create an array of random numbers, len 10\n",
    "np.random.rand(10)\n",
    "# show the length of the array\n",
    "len(np.random.rand(10))\n",
    "# alt\n",
    "np.random.rand(10).shape\n",
    "\n",
    "# create a 2D array (2,3) of random numbers\n",
    "np.random.rand(2,3)\n",
    "# HINT: np.random.rand?"
   ]
  },
  {
   "cell_type": "code",
   "execution_count": 23,
   "id": "0eabf801-8784-4d66-b034-efc6e5b7b4da",
   "metadata": {},
   "outputs": [
    {
     "data": {
      "text/plain": [
       "array([3, 4, 5, 6])"
      ]
     },
     "execution_count": 23,
     "metadata": {},
     "output_type": "execute_result"
    }
   ],
   "source": [
    "# create an array of numbers ordered 0 to 9; named x\n",
    "x = np.arange(10)\n",
    "\n",
    "# slice the 0th value of the array\n",
    "x[0]\n",
    "# slice the last value of the array\n",
    "x[-1]\n",
    "\n",
    "# slice the last 3 values from the 1D array i.e. [7,8,9]\n",
    "x[-3:]\n",
    "# slice the 3rd to the 6th (inclusive) valumes from the array i.e. [3,4,5,6]\n",
    "x[3:7]"
   ]
  },
  {
   "cell_type": "markdown",
   "id": "a50f8e08-e8c5-4b9f-a983-6c26c92a4df6",
   "metadata": {},
   "source": [
    "## Pandas Basics"
   ]
  },
  {
   "cell_type": "code",
   "execution_count": 4,
   "id": "044c451b-e574-4924-a22d-79960c233d68",
   "metadata": {},
   "outputs": [],
   "source": [
    "import pandas as pd\n",
    "from IPython.display import display"
   ]
  },
  {
   "cell_type": "markdown",
   "id": "575bb366-2279-457d-a954-7fb0e597564a",
   "metadata": {},
   "source": [
    "### Create a DataFrame"
   ]
  },
  {
   "cell_type": "code",
   "execution_count": 37,
   "id": "96607650-177b-4797-94b0-355aa1234557",
   "metadata": {},
   "outputs": [
    {
     "data": {
      "text/html": [
       "<div>\n",
       "<style scoped>\n",
       "    .dataframe tbody tr th:only-of-type {\n",
       "        vertical-align: middle;\n",
       "    }\n",
       "\n",
       "    .dataframe tbody tr th {\n",
       "        vertical-align: top;\n",
       "    }\n",
       "\n",
       "    .dataframe thead th {\n",
       "        text-align: right;\n",
       "    }\n",
       "</style>\n",
       "<table border=\"1\" class=\"dataframe\">\n",
       "  <thead>\n",
       "    <tr style=\"text-align: right;\">\n",
       "      <th></th>\n",
       "      <th>pet</th>\n",
       "      <th>height</th>\n",
       "      <th>length</th>\n",
       "      <th>name</th>\n",
       "    </tr>\n",
       "  </thead>\n",
       "  <tbody>\n",
       "    <tr>\n",
       "      <th>0</th>\n",
       "      <td>cat</td>\n",
       "      <td>1.0</td>\n",
       "      <td>1.6</td>\n",
       "      <td>alan</td>\n",
       "    </tr>\n",
       "    <tr>\n",
       "      <th>1</th>\n",
       "      <td>dog</td>\n",
       "      <td>2.0</td>\n",
       "      <td>2.2</td>\n",
       "      <td>bob</td>\n",
       "    </tr>\n",
       "    <tr>\n",
       "      <th>2</th>\n",
       "      <td>cat</td>\n",
       "      <td>1.2</td>\n",
       "      <td>1.5</td>\n",
       "      <td>chris</td>\n",
       "    </tr>\n",
       "    <tr>\n",
       "      <th>3</th>\n",
       "      <td>cat</td>\n",
       "      <td>0.9</td>\n",
       "      <td>1.0</td>\n",
       "      <td>dave</td>\n",
       "    </tr>\n",
       "    <tr>\n",
       "      <th>4</th>\n",
       "      <td>bird</td>\n",
       "      <td>0.3</td>\n",
       "      <td>0.1</td>\n",
       "      <td>ed</td>\n",
       "    </tr>\n",
       "  </tbody>\n",
       "</table>\n",
       "</div>"
      ],
      "text/plain": [
       "    pet  height  length   name\n",
       "0   cat     1.0     1.6   alan\n",
       "1   dog     2.0     2.2    bob\n",
       "2   cat     1.2     1.5  chris\n",
       "3   cat     0.9     1.0   dave\n",
       "4  bird     0.3     0.1     ed"
      ]
     },
     "execution_count": 37,
     "metadata": {},
     "output_type": "execute_result"
    }
   ],
   "source": [
    "# create a dataframe with 3 columns\n",
    "# - \"pet\"    which has cat, dog, cat, cat, bird\n",
    "# - \"height\" which has 1, 2, 1.2, .9, .3\n",
    "# - \"length\" which has 1.6, 2.2, 1.5, 1, .1\n",
    "# - \"name\"   which has alan, bob, chris, dave, ed\n",
    "\n",
    "\n",
    "# a column centric view of the data\n",
    "d = {\n",
    "    \"pet\" : [\"cat\", \"dog\", \"cat\", \"cat\", \"bird\"],\n",
    "    \"height\" : [1, 2, 1.2, .9, .3],\n",
    "    \"length\" : [1.6, 2.2, 1.5, 1, .1],\n",
    "    \"name\" : [\"alan\", \"bob\", \"chris\", \"dave\", \"ed\"],\n",
    "}\n",
    "\n",
    "df = pd.DataFrame(d)\n",
    "df"
   ]
  },
  {
   "cell_type": "code",
   "execution_count": 5,
   "id": "8682006a-1f4b-455f-bd00-cdf7f895e4f5",
   "metadata": {},
   "outputs": [
    {
     "data": {
      "text/html": [
       "<div>\n",
       "<style scoped>\n",
       "    .dataframe tbody tr th:only-of-type {\n",
       "        vertical-align: middle;\n",
       "    }\n",
       "\n",
       "    .dataframe tbody tr th {\n",
       "        vertical-align: top;\n",
       "    }\n",
       "\n",
       "    .dataframe thead th {\n",
       "        text-align: right;\n",
       "    }\n",
       "</style>\n",
       "<table border=\"1\" class=\"dataframe\">\n",
       "  <thead>\n",
       "    <tr style=\"text-align: right;\">\n",
       "      <th></th>\n",
       "      <th>pet</th>\n",
       "      <th>height</th>\n",
       "      <th>length</th>\n",
       "      <th>name</th>\n",
       "    </tr>\n",
       "  </thead>\n",
       "  <tbody>\n",
       "    <tr>\n",
       "      <th>0</th>\n",
       "      <td>cat</td>\n",
       "      <td>1.0</td>\n",
       "      <td>1.6</td>\n",
       "      <td>alan</td>\n",
       "    </tr>\n",
       "    <tr>\n",
       "      <th>1</th>\n",
       "      <td>dog</td>\n",
       "      <td>2.0</td>\n",
       "      <td>2.2</td>\n",
       "      <td>bob</td>\n",
       "    </tr>\n",
       "    <tr>\n",
       "      <th>2</th>\n",
       "      <td>cat</td>\n",
       "      <td>1.2</td>\n",
       "      <td>1.5</td>\n",
       "      <td>chris</td>\n",
       "    </tr>\n",
       "    <tr>\n",
       "      <th>3</th>\n",
       "      <td>cat</td>\n",
       "      <td>0.9</td>\n",
       "      <td>1.0</td>\n",
       "      <td>dave</td>\n",
       "    </tr>\n",
       "    <tr>\n",
       "      <th>4</th>\n",
       "      <td>bird</td>\n",
       "      <td>0.3</td>\n",
       "      <td>0.1</td>\n",
       "      <td>ed</td>\n",
       "    </tr>\n",
       "  </tbody>\n",
       "</table>\n",
       "</div>"
      ],
      "text/plain": [
       "    pet  height  length   name\n",
       "0   cat     1.0     1.6   alan\n",
       "1   dog     2.0     2.2    bob\n",
       "2   cat     1.2     1.5  chris\n",
       "3   cat     0.9     1.0   dave\n",
       "4  bird     0.3     0.1     ed"
      ]
     },
     "execution_count": 5,
     "metadata": {},
     "output_type": "execute_result"
    }
   ],
   "source": [
    "# the same problem as above but with a row-centric view of the data\n",
    "# this is more 'natural' if the data is organized by row (i.e. pet-data)\n",
    "a = [\"cat\", 1, 1.6, \"alan\"]\n",
    "b = [\"dog\", 2, 2.2, \"bob\"]\n",
    "c = [\"cat\", 1.2, 1.5, \"chris\"]\n",
    "d = [\"cat\", .9, 1, \"dave\"]\n",
    "e = [\"bird\", .3, .1, \"ed\"]\n",
    "\n",
    "df = pd.DataFrame([a,b,c,d,e], columns=[\"pet\", \"height\", \"length\", \"name\"])\n",
    "df"
   ]
  },
  {
   "cell_type": "code",
   "execution_count": 48,
   "id": "c30b115c",
   "metadata": {},
   "outputs": [
    {
     "data": {
      "text/plain": [
       "1    dave\n",
       "Name: name, dtype: object"
      ]
     },
     "execution_count": 48,
     "metadata": {},
     "output_type": "execute_result"
    }
   ],
   "source": [
    "max_pet = df.groupby(by=['pet'], as_index=False).max()\n",
    "max_pet[max_pet['pet'] == 'cat']['name']"
   ]
  },
  {
   "cell_type": "markdown",
   "id": "fd3a0b69-8e61-4a57-b5fc-1b898c168abf",
   "metadata": {},
   "source": [
    "### Display Counts - i.e. Frequency Table"
   ]
  },
  {
   "cell_type": "code",
   "execution_count": 41,
   "id": "4c1f8344-cd67-4a0a-b8d4-e1ca14d5151f",
   "metadata": {},
   "outputs": [
    {
     "data": {
      "text/plain": [
       "pet\n",
       "cat     0.6\n",
       "dog     0.2\n",
       "bird    0.2\n",
       "Name: proportion, dtype: float64"
      ]
     },
     "execution_count": 41,
     "metadata": {},
     "output_type": "execute_result"
    }
   ],
   "source": [
    "# display a table of the pet categories HINT 'count' of 'values'\n",
    "df[\"pet\"].value_counts()\n",
    "\n",
    "# display the same table but instead of absolute counts, show the % of the data for each category\n",
    "# HINT look at the function args\n",
    "df[\"pet\"].value_counts(normalize=True)"
   ]
  },
  {
   "cell_type": "markdown",
   "id": "c023ff43-5f81-4ccb-b0c4-3bb86f8be2c9",
   "metadata": {},
   "source": [
    "### Challenge 1 - Find the tallest cat"
   ]
  },
  {
   "cell_type": "code",
   "execution_count": 57,
   "id": "c198e479-e027-4afc-85f8-089210a4d583",
   "metadata": {},
   "outputs": [
    {
     "name": "stdout",
     "output_type": "stream",
     "text": [
      "filter\n"
     ]
    },
    {
     "data": {
      "text/html": [
       "<div>\n",
       "<style scoped>\n",
       "    .dataframe tbody tr th:only-of-type {\n",
       "        vertical-align: middle;\n",
       "    }\n",
       "\n",
       "    .dataframe tbody tr th {\n",
       "        vertical-align: top;\n",
       "    }\n",
       "\n",
       "    .dataframe thead th {\n",
       "        text-align: right;\n",
       "    }\n",
       "</style>\n",
       "<table border=\"1\" class=\"dataframe\">\n",
       "  <thead>\n",
       "    <tr style=\"text-align: right;\">\n",
       "      <th></th>\n",
       "      <th>pet</th>\n",
       "      <th>height</th>\n",
       "      <th>length</th>\n",
       "      <th>name</th>\n",
       "    </tr>\n",
       "  </thead>\n",
       "  <tbody>\n",
       "    <tr>\n",
       "      <th>0</th>\n",
       "      <td>cat</td>\n",
       "      <td>1.0</td>\n",
       "      <td>1.6</td>\n",
       "      <td>alan</td>\n",
       "    </tr>\n",
       "    <tr>\n",
       "      <th>2</th>\n",
       "      <td>cat</td>\n",
       "      <td>1.2</td>\n",
       "      <td>1.5</td>\n",
       "      <td>chris</td>\n",
       "    </tr>\n",
       "    <tr>\n",
       "      <th>3</th>\n",
       "      <td>cat</td>\n",
       "      <td>0.9</td>\n",
       "      <td>1.0</td>\n",
       "      <td>dave</td>\n",
       "    </tr>\n",
       "  </tbody>\n",
       "</table>\n",
       "</div>"
      ],
      "text/plain": [
       "   pet  height  length   name\n",
       "0  cat     1.0     1.6   alan\n",
       "2  cat     1.2     1.5  chris\n",
       "3  cat     0.9     1.0   dave"
      ]
     },
     "metadata": {},
     "output_type": "display_data"
    },
    {
     "name": "stdout",
     "output_type": "stream",
     "text": [
      "sort\n"
     ]
    },
    {
     "data": {
      "text/html": [
       "<div>\n",
       "<style scoped>\n",
       "    .dataframe tbody tr th:only-of-type {\n",
       "        vertical-align: middle;\n",
       "    }\n",
       "\n",
       "    .dataframe tbody tr th {\n",
       "        vertical-align: top;\n",
       "    }\n",
       "\n",
       "    .dataframe thead th {\n",
       "        text-align: right;\n",
       "    }\n",
       "</style>\n",
       "<table border=\"1\" class=\"dataframe\">\n",
       "  <thead>\n",
       "    <tr style=\"text-align: right;\">\n",
       "      <th></th>\n",
       "      <th>pet</th>\n",
       "      <th>height</th>\n",
       "      <th>length</th>\n",
       "      <th>name</th>\n",
       "    </tr>\n",
       "  </thead>\n",
       "  <tbody>\n",
       "    <tr>\n",
       "      <th>2</th>\n",
       "      <td>cat</td>\n",
       "      <td>1.2</td>\n",
       "      <td>1.5</td>\n",
       "      <td>chris</td>\n",
       "    </tr>\n",
       "    <tr>\n",
       "      <th>0</th>\n",
       "      <td>cat</td>\n",
       "      <td>1.0</td>\n",
       "      <td>1.6</td>\n",
       "      <td>alan</td>\n",
       "    </tr>\n",
       "    <tr>\n",
       "      <th>3</th>\n",
       "      <td>cat</td>\n",
       "      <td>0.9</td>\n",
       "      <td>1.0</td>\n",
       "      <td>dave</td>\n",
       "    </tr>\n",
       "  </tbody>\n",
       "</table>\n",
       "</div>"
      ],
      "text/plain": [
       "   pet  height  length   name\n",
       "2  cat     1.2     1.5  chris\n",
       "0  cat     1.0     1.6   alan\n",
       "3  cat     0.9     1.0   dave"
      ]
     },
     "metadata": {},
     "output_type": "display_data"
    },
    {
     "name": "stdout",
     "output_type": "stream",
     "text": [
      "chris\n"
     ]
    }
   ],
   "source": [
    "# select the tallest cat from the dataframe - what is the name?\n",
    "\n",
    "# ans: filter to only cats, sort values take top height (general solution)\n",
    "cats = df[df[\"pet\"] == \"cat\"]\n",
    "print(\"filter\")\n",
    "display(cats)\n",
    "\n",
    "cats = cats.sort_values(\"height\", ascending=False)\n",
    "print(\"sort\")\n",
    "display(cats)\n",
    "\n",
    "# get the first row i.e. .iloc[0] get the name i.e. ['name']\n",
    "print(cats.iloc[0][\"name\"])"
   ]
  },
  {
   "cell_type": "code",
   "execution_count": 60,
   "id": "2f6be3b4-d158-46f2-adac-b8090f812b7b",
   "metadata": {},
   "outputs": [
    {
     "data": {
      "text/plain": [
       "'chris'"
      ]
     },
     "execution_count": 60,
     "metadata": {},
     "output_type": "execute_result"
    }
   ],
   "source": [
    "# everything above as a one-liner\n",
    "df[df[\"pet\"] == 'cat'].sort_values(\"height\", ascending=False).iloc[0][\"name\"]\n",
    "\n",
    "# same as above but with query to perform filtering - this syntax is non-standard FYI only\n",
    "# df.query(\"pet == 'cat'\").sort_values(\"height\", ascending=False).iloc[0][\"name\"]"
   ]
  },
  {
   "cell_type": "markdown",
   "id": "8af15e76-4f1e-40b8-b779-8015f9da8abb",
   "metadata": {},
   "source": [
    "### Challenge 2 - Find the shortest name"
   ]
  },
  {
   "cell_type": "code",
   "execution_count": 71,
   "id": "e55e9fcb-d68e-427b-a9f1-b605e1b95a82",
   "metadata": {},
   "outputs": [
    {
     "name": "stdout",
     "output_type": "stream",
     "text": [
      "--------------------\n",
      "array of str lengths\n",
      "--------------------\n",
      "0    4\n",
      "1    3\n",
      "2    5\n",
      "3    4\n",
      "4    2\n",
      "Name: name, dtype: int64\n",
      "--------------------\n",
      "mask\n",
      "--------------------\n",
      "0    False\n",
      "1    False\n",
      "2    False\n",
      "3    False\n",
      "4     True\n",
      "Name: name, dtype: bool\n",
      "--------------------\n",
      "shortest name\n",
      "--------------------\n"
     ]
    },
    {
     "data": {
      "text/plain": [
       "4    ed\n",
       "Name: name, dtype: object"
      ]
     },
     "execution_count": 71,
     "metadata": {},
     "output_type": "execute_result"
    }
   ],
   "source": [
    "# select the shortest name from the df - what name is it?\n",
    "\n",
    "# ans: get an array of name string lengths\n",
    "str_len = df[\"name\"].str.len()\n",
    "print(\"-\"*20,\"array of str lengths\",\"-\"*20, sep=\"\\n\")\n",
    "print(str_len)\n",
    "\n",
    "# get a bool array of the names that equal min str length\n",
    "mask = str_len == str_len.min()\n",
    "print(\"-\"*20,\"mask\", \"-\"*20, sep=\"\\n\")\n",
    "print(mask)\n",
    "\n",
    "# mask the array and get the names\n",
    "print(\"-\"*20,\"shortest name\",\"-\"*20, sep=\"\\n\")\n",
    "df[mask][\"name\"]"
   ]
  },
  {
   "cell_type": "markdown",
   "id": "7f708202-872f-4eeb-9eef-77ebea5ff298",
   "metadata": {},
   "source": [
    "### Column Manipulations"
   ]
  },
  {
   "cell_type": "code",
   "execution_count": 73,
   "id": "411ba8f9-e75d-4871-bf41-02097636a804",
   "metadata": {},
   "outputs": [
    {
     "data": {
      "text/html": [
       "<div>\n",
       "<style scoped>\n",
       "    .dataframe tbody tr th:only-of-type {\n",
       "        vertical-align: middle;\n",
       "    }\n",
       "\n",
       "    .dataframe tbody tr th {\n",
       "        vertical-align: top;\n",
       "    }\n",
       "\n",
       "    .dataframe thead th {\n",
       "        text-align: right;\n",
       "    }\n",
       "</style>\n",
       "<table border=\"1\" class=\"dataframe\">\n",
       "  <thead>\n",
       "    <tr style=\"text-align: right;\">\n",
       "      <th></th>\n",
       "      <th>pet</th>\n",
       "      <th>height</th>\n",
       "      <th>length</th>\n",
       "      <th>name</th>\n",
       "    </tr>\n",
       "  </thead>\n",
       "  <tbody>\n",
       "    <tr>\n",
       "      <th>4</th>\n",
       "      <td>bird</td>\n",
       "      <td>0.3</td>\n",
       "      <td>0.1</td>\n",
       "      <td>ed</td>\n",
       "    </tr>\n",
       "    <tr>\n",
       "      <th>3</th>\n",
       "      <td>cat</td>\n",
       "      <td>0.9</td>\n",
       "      <td>1.0</td>\n",
       "      <td>dave</td>\n",
       "    </tr>\n",
       "    <tr>\n",
       "      <th>0</th>\n",
       "      <td>cat</td>\n",
       "      <td>1.0</td>\n",
       "      <td>1.6</td>\n",
       "      <td>alan</td>\n",
       "    </tr>\n",
       "    <tr>\n",
       "      <th>2</th>\n",
       "      <td>cat</td>\n",
       "      <td>1.2</td>\n",
       "      <td>1.5</td>\n",
       "      <td>chris</td>\n",
       "    </tr>\n",
       "    <tr>\n",
       "      <th>1</th>\n",
       "      <td>dog</td>\n",
       "      <td>2.0</td>\n",
       "      <td>2.2</td>\n",
       "      <td>bob</td>\n",
       "    </tr>\n",
       "  </tbody>\n",
       "</table>\n",
       "</div>"
      ],
      "text/plain": [
       "    pet  height  length   name\n",
       "4  bird     0.3     0.1     ed\n",
       "3   cat     0.9     1.0   dave\n",
       "0   cat     1.0     1.6   alan\n",
       "2   cat     1.2     1.5  chris\n",
       "1   dog     2.0     2.2    bob"
      ]
     },
     "metadata": {},
     "output_type": "display_data"
    }
   ],
   "source": [
    "# order the dataframe according to height ascending\n",
    "# df = df.sort_values(\"height\", ascending=True)\n",
    "df.sort_values(\"height\", ascending=True, inplace=True)\n",
    "display(df)"
   ]
  },
  {
   "cell_type": "code",
   "execution_count": 74,
   "id": "6008015f-e849-4b23-9186-80b1298470e1",
   "metadata": {},
   "outputs": [
    {
     "data": {
      "text/html": [
       "<div>\n",
       "<style scoped>\n",
       "    .dataframe tbody tr th:only-of-type {\n",
       "        vertical-align: middle;\n",
       "    }\n",
       "\n",
       "    .dataframe tbody tr th {\n",
       "        vertical-align: top;\n",
       "    }\n",
       "\n",
       "    .dataframe thead th {\n",
       "        text-align: right;\n",
       "    }\n",
       "</style>\n",
       "<table border=\"1\" class=\"dataframe\">\n",
       "  <thead>\n",
       "    <tr style=\"text-align: right;\">\n",
       "      <th></th>\n",
       "      <th>pet</th>\n",
       "      <th>height</th>\n",
       "      <th>length</th>\n",
       "      <th>name</th>\n",
       "      <th>area</th>\n",
       "    </tr>\n",
       "  </thead>\n",
       "  <tbody>\n",
       "    <tr>\n",
       "      <th>4</th>\n",
       "      <td>bird</td>\n",
       "      <td>0.3</td>\n",
       "      <td>0.1</td>\n",
       "      <td>ed</td>\n",
       "      <td>0.03</td>\n",
       "    </tr>\n",
       "    <tr>\n",
       "      <th>3</th>\n",
       "      <td>cat</td>\n",
       "      <td>0.9</td>\n",
       "      <td>1.0</td>\n",
       "      <td>dave</td>\n",
       "      <td>0.90</td>\n",
       "    </tr>\n",
       "    <tr>\n",
       "      <th>0</th>\n",
       "      <td>cat</td>\n",
       "      <td>1.0</td>\n",
       "      <td>1.6</td>\n",
       "      <td>alan</td>\n",
       "      <td>1.60</td>\n",
       "    </tr>\n",
       "    <tr>\n",
       "      <th>2</th>\n",
       "      <td>cat</td>\n",
       "      <td>1.2</td>\n",
       "      <td>1.5</td>\n",
       "      <td>chris</td>\n",
       "      <td>1.80</td>\n",
       "    </tr>\n",
       "    <tr>\n",
       "      <th>1</th>\n",
       "      <td>dog</td>\n",
       "      <td>2.0</td>\n",
       "      <td>2.2</td>\n",
       "      <td>bob</td>\n",
       "      <td>4.40</td>\n",
       "    </tr>\n",
       "  </tbody>\n",
       "</table>\n",
       "</div>"
      ],
      "text/plain": [
       "    pet  height  length   name  area\n",
       "4  bird     0.3     0.1     ed  0.03\n",
       "3   cat     0.9     1.0   dave  0.90\n",
       "0   cat     1.0     1.6   alan  1.60\n",
       "2   cat     1.2     1.5  chris  1.80\n",
       "1   dog     2.0     2.2    bob  4.40"
      ]
     },
     "metadata": {},
     "output_type": "display_data"
    }
   ],
   "source": [
    "# create a column named area which is the length times height\n",
    "df[\"area\"] = df[\"length\"] * df[\"height\"]\n",
    "display(df)"
   ]
  },
  {
   "cell_type": "code",
   "execution_count": 75,
   "id": "588ef923-72bc-4d08-ac8b-cfb81a253c2e",
   "metadata": {},
   "outputs": [
    {
     "data": {
      "text/html": [
       "<div>\n",
       "<style scoped>\n",
       "    .dataframe tbody tr th:only-of-type {\n",
       "        vertical-align: middle;\n",
       "    }\n",
       "\n",
       "    .dataframe tbody tr th {\n",
       "        vertical-align: top;\n",
       "    }\n",
       "\n",
       "    .dataframe thead th {\n",
       "        text-align: right;\n",
       "    }\n",
       "</style>\n",
       "<table border=\"1\" class=\"dataframe\">\n",
       "  <thead>\n",
       "    <tr style=\"text-align: right;\">\n",
       "      <th></th>\n",
       "      <th>pet</th>\n",
       "      <th>height</th>\n",
       "      <th>length</th>\n",
       "      <th>name</th>\n",
       "    </tr>\n",
       "  </thead>\n",
       "  <tbody>\n",
       "    <tr>\n",
       "      <th>4</th>\n",
       "      <td>bird</td>\n",
       "      <td>0.3</td>\n",
       "      <td>0.1</td>\n",
       "      <td>ed</td>\n",
       "    </tr>\n",
       "    <tr>\n",
       "      <th>3</th>\n",
       "      <td>cat</td>\n",
       "      <td>0.9</td>\n",
       "      <td>1.0</td>\n",
       "      <td>dave</td>\n",
       "    </tr>\n",
       "    <tr>\n",
       "      <th>0</th>\n",
       "      <td>cat</td>\n",
       "      <td>1.0</td>\n",
       "      <td>1.6</td>\n",
       "      <td>alan</td>\n",
       "    </tr>\n",
       "    <tr>\n",
       "      <th>2</th>\n",
       "      <td>cat</td>\n",
       "      <td>1.2</td>\n",
       "      <td>1.5</td>\n",
       "      <td>chris</td>\n",
       "    </tr>\n",
       "    <tr>\n",
       "      <th>1</th>\n",
       "      <td>dog</td>\n",
       "      <td>2.0</td>\n",
       "      <td>2.2</td>\n",
       "      <td>bob</td>\n",
       "    </tr>\n",
       "  </tbody>\n",
       "</table>\n",
       "</div>"
      ],
      "text/plain": [
       "    pet  height  length   name\n",
       "4  bird     0.3     0.1     ed\n",
       "3   cat     0.9     1.0   dave\n",
       "0   cat     1.0     1.6   alan\n",
       "2   cat     1.2     1.5  chris\n",
       "1   dog     2.0     2.2    bob"
      ]
     },
     "metadata": {},
     "output_type": "display_data"
    }
   ],
   "source": [
    "# drop the column area\n",
    "df = df.drop(columns=[\"area\"])\n",
    "display(df)"
   ]
  },
  {
   "cell_type": "markdown",
   "id": "9f62fc04-b216-4585-af29-d57b0628ed56",
   "metadata": {},
   "source": [
    "### Challenge 3 - Add a Row of Data\n",
    "This is problem is a one-row version of \"stacking\" dataframes (i.e. UNION in SQL)"
   ]
  },
  {
   "cell_type": "code",
   "execution_count": 128,
   "id": "3d4f81d3-482e-4b96-85cd-7d805cc920a2",
   "metadata": {},
   "outputs": [
    {
     "data": {
      "text/html": [
       "<div>\n",
       "<style scoped>\n",
       "    .dataframe tbody tr th:only-of-type {\n",
       "        vertical-align: middle;\n",
       "    }\n",
       "\n",
       "    .dataframe tbody tr th {\n",
       "        vertical-align: top;\n",
       "    }\n",
       "\n",
       "    .dataframe thead th {\n",
       "        text-align: right;\n",
       "    }\n",
       "</style>\n",
       "<table border=\"1\" class=\"dataframe\">\n",
       "  <thead>\n",
       "    <tr style=\"text-align: right;\">\n",
       "      <th></th>\n",
       "      <th>pet</th>\n",
       "      <th>height</th>\n",
       "      <th>length</th>\n",
       "      <th>name</th>\n",
       "    </tr>\n",
       "  </thead>\n",
       "  <tbody>\n",
       "    <tr>\n",
       "      <th>0</th>\n",
       "      <td>dog</td>\n",
       "      <td>2</td>\n",
       "      <td>3</td>\n",
       "      <td>frank</td>\n",
       "    </tr>\n",
       "  </tbody>\n",
       "</table>\n",
       "</div>"
      ],
      "text/plain": [
       "   pet height length   name\n",
       "0  dog      2      3  frank"
      ]
     },
     "metadata": {},
     "output_type": "display_data"
    }
   ],
   "source": [
    "# create a copy of the df\n",
    "x = df.copy(deep=True)\n",
    "\n",
    "# add a row with [\"dog\", 2, 3, \"frank\"]\n",
    "f = [\"dog\", 2, 3, \"frank\"]\n",
    "# here we add an index and assign data f\n",
    "x.loc[len(x)] = f\n",
    "# display(x)\n",
    "\n",
    "# alternative we can concat 2 dataframes\n",
    "# this is the more typical usecase when UNION two dataframes\n",
    "# adding a row is a 'special case'\n",
    "x = df.copy(deep=True)\n",
    "\n",
    "# this is a little ugly\n",
    "f_ = pd.DataFrame(f).T\n",
    "f_.columns = x.columns\n",
    "display(f_)"
   ]
  },
  {
   "cell_type": "code",
   "execution_count": 127,
   "id": "a7256617-54ab-468e-9ca7-d2f647a398eb",
   "metadata": {},
   "outputs": [
    {
     "data": {
      "text/html": [
       "<div>\n",
       "<style scoped>\n",
       "    .dataframe tbody tr th:only-of-type {\n",
       "        vertical-align: middle;\n",
       "    }\n",
       "\n",
       "    .dataframe tbody tr th {\n",
       "        vertical-align: top;\n",
       "    }\n",
       "\n",
       "    .dataframe thead th {\n",
       "        text-align: right;\n",
       "    }\n",
       "</style>\n",
       "<table border=\"1\" class=\"dataframe\">\n",
       "  <thead>\n",
       "    <tr style=\"text-align: right;\">\n",
       "      <th></th>\n",
       "      <th>0</th>\n",
       "    </tr>\n",
       "  </thead>\n",
       "  <tbody>\n",
       "    <tr>\n",
       "      <th>pet</th>\n",
       "      <td>dog</td>\n",
       "    </tr>\n",
       "    <tr>\n",
       "      <th>height</th>\n",
       "      <td>2</td>\n",
       "    </tr>\n",
       "    <tr>\n",
       "      <th>length</th>\n",
       "      <td>3</td>\n",
       "    </tr>\n",
       "    <tr>\n",
       "      <th>name</th>\n",
       "      <td>frank</td>\n",
       "    </tr>\n",
       "  </tbody>\n",
       "</table>\n",
       "</div>"
      ],
      "text/plain": [
       "            0\n",
       "pet       dog\n",
       "height      2\n",
       "length      3\n",
       "name    frank"
      ]
     },
     "metadata": {},
     "output_type": "display_data"
    },
    {
     "data": {
      "text/html": [
       "<div>\n",
       "<style scoped>\n",
       "    .dataframe tbody tr th:only-of-type {\n",
       "        vertical-align: middle;\n",
       "    }\n",
       "\n",
       "    .dataframe tbody tr th {\n",
       "        vertical-align: top;\n",
       "    }\n",
       "\n",
       "    .dataframe thead th {\n",
       "        text-align: right;\n",
       "    }\n",
       "</style>\n",
       "<table border=\"1\" class=\"dataframe\">\n",
       "  <thead>\n",
       "    <tr style=\"text-align: right;\">\n",
       "      <th></th>\n",
       "      <th>pet</th>\n",
       "      <th>height</th>\n",
       "      <th>length</th>\n",
       "      <th>name</th>\n",
       "    </tr>\n",
       "  </thead>\n",
       "  <tbody>\n",
       "    <tr>\n",
       "      <th>0</th>\n",
       "      <td>dog</td>\n",
       "      <td>2</td>\n",
       "      <td>3</td>\n",
       "      <td>frank</td>\n",
       "    </tr>\n",
       "  </tbody>\n",
       "</table>\n",
       "</div>"
      ],
      "text/plain": [
       "   pet height length   name\n",
       "0  dog      2      3  frank"
      ]
     },
     "metadata": {},
     "output_type": "display_data"
    },
    {
     "data": {
      "text/html": [
       "<div>\n",
       "<style scoped>\n",
       "    .dataframe tbody tr th:only-of-type {\n",
       "        vertical-align: middle;\n",
       "    }\n",
       "\n",
       "    .dataframe tbody tr th {\n",
       "        vertical-align: top;\n",
       "    }\n",
       "\n",
       "    .dataframe thead th {\n",
       "        text-align: right;\n",
       "    }\n",
       "</style>\n",
       "<table border=\"1\" class=\"dataframe\">\n",
       "  <thead>\n",
       "    <tr style=\"text-align: right;\">\n",
       "      <th></th>\n",
       "      <th>pet</th>\n",
       "      <th>height</th>\n",
       "      <th>length</th>\n",
       "      <th>name</th>\n",
       "    </tr>\n",
       "  </thead>\n",
       "  <tbody>\n",
       "    <tr>\n",
       "      <th>0</th>\n",
       "      <td>bird</td>\n",
       "      <td>0.3</td>\n",
       "      <td>0.1</td>\n",
       "      <td>ed</td>\n",
       "    </tr>\n",
       "    <tr>\n",
       "      <th>1</th>\n",
       "      <td>cat</td>\n",
       "      <td>0.9</td>\n",
       "      <td>1.0</td>\n",
       "      <td>dave</td>\n",
       "    </tr>\n",
       "    <tr>\n",
       "      <th>2</th>\n",
       "      <td>cat</td>\n",
       "      <td>1.0</td>\n",
       "      <td>1.6</td>\n",
       "      <td>alan</td>\n",
       "    </tr>\n",
       "    <tr>\n",
       "      <th>3</th>\n",
       "      <td>cat</td>\n",
       "      <td>1.2</td>\n",
       "      <td>1.5</td>\n",
       "      <td>chris</td>\n",
       "    </tr>\n",
       "    <tr>\n",
       "      <th>4</th>\n",
       "      <td>dog</td>\n",
       "      <td>2.0</td>\n",
       "      <td>2.2</td>\n",
       "      <td>bob</td>\n",
       "    </tr>\n",
       "    <tr>\n",
       "      <th>5</th>\n",
       "      <td>dog</td>\n",
       "      <td>2</td>\n",
       "      <td>3</td>\n",
       "      <td>frank</td>\n",
       "    </tr>\n",
       "  </tbody>\n",
       "</table>\n",
       "</div>"
      ],
      "text/plain": [
       "    pet height length   name\n",
       "0  bird    0.3    0.1     ed\n",
       "1   cat    0.9    1.0   dave\n",
       "2   cat    1.0    1.6   alan\n",
       "3   cat    1.2    1.5  chris\n",
       "4   dog    2.0    2.2    bob\n",
       "5   dog      2      3  frank"
      ]
     },
     "execution_count": 127,
     "metadata": {},
     "output_type": "execute_result"
    }
   ],
   "source": [
    "# we could change our data to make it less ugly i.e.\n",
    "# the syntax here is more complex though\n",
    "f2_ = pd.DataFrame.from_dict({col: data for col, data in zip(x.columns, f)}, orient=\"index\")\n",
    "display(f2_)\n",
    "\n",
    "# note we need to transpose f2_ to align with the other df's orientation\n",
    "f2_ = f2_.T\n",
    "display(f2_)\n",
    "\n",
    "# concat is a STANDARD technique for combining data!\n",
    "pd.concat([x, f2_], ignore_index=True)"
   ]
  },
  {
   "cell_type": "markdown",
   "id": "5458563b-796b-4cb2-b7ad-d26c02f2a302",
   "metadata": {},
   "source": [
    "### Subset DataFrames & Index Adjustments\n",
    "The key concept here is that df's return copies... and you have to be explicit about returning a copy (with some adjustment) vs. mutating the dataframe"
   ]
  },
  {
   "cell_type": "code",
   "execution_count": 140,
   "id": "0c6796cf-8277-4631-9ad3-767468c742c6",
   "metadata": {},
   "outputs": [
    {
     "data": {
      "text/html": [
       "<div>\n",
       "<style scoped>\n",
       "    .dataframe tbody tr th:only-of-type {\n",
       "        vertical-align: middle;\n",
       "    }\n",
       "\n",
       "    .dataframe tbody tr th {\n",
       "        vertical-align: top;\n",
       "    }\n",
       "\n",
       "    .dataframe thead th {\n",
       "        text-align: right;\n",
       "    }\n",
       "</style>\n",
       "<table border=\"1\" class=\"dataframe\">\n",
       "  <thead>\n",
       "    <tr style=\"text-align: right;\">\n",
       "      <th></th>\n",
       "      <th>pet</th>\n",
       "      <th>name</th>\n",
       "    </tr>\n",
       "  </thead>\n",
       "  <tbody>\n",
       "    <tr>\n",
       "      <th>3</th>\n",
       "      <td>cat</td>\n",
       "      <td>dave</td>\n",
       "    </tr>\n",
       "    <tr>\n",
       "      <th>0</th>\n",
       "      <td>cat</td>\n",
       "      <td>alan</td>\n",
       "    </tr>\n",
       "    <tr>\n",
       "      <th>2</th>\n",
       "      <td>cat</td>\n",
       "      <td>chris</td>\n",
       "    </tr>\n",
       "  </tbody>\n",
       "</table>\n",
       "</div>"
      ],
      "text/plain": [
       "   pet   name\n",
       "3  cat   dave\n",
       "0  cat   alan\n",
       "2  cat  chris"
      ]
     },
     "metadata": {},
     "output_type": "display_data"
    },
    {
     "ename": "NameError",
     "evalue": "name 'new' is not defined",
     "output_type": "error",
     "traceback": [
      "\u001b[0;31m---------------------------------------------------------------------------\u001b[0m",
      "\u001b[0;31mNameError\u001b[0m                                 Traceback (most recent call last)",
      "Cell \u001b[0;32mIn[140], line 18\u001b[0m\n\u001b[1;32m     14\u001b[0m \u001b[38;5;66;03m# alt: new.reset_index(inplace=True)\u001b[39;00m\n\u001b[1;32m     15\u001b[0m \n\u001b[1;32m     16\u001b[0m \u001b[38;5;66;03m# delete new\u001b[39;00m\n\u001b[1;32m     17\u001b[0m \u001b[38;5;28;01mdel\u001b[39;00m new\n\u001b[0;32m---> 18\u001b[0m display(\u001b[43mnew\u001b[49m)\n\u001b[1;32m     19\u001b[0m \u001b[38;5;66;03m# filter the dataframe to only cats\u001b[39;00m\n\u001b[1;32m     20\u001b[0m \u001b[38;5;66;03m# filter the dataframe to only height >= 1\u001b[39;00m\n\u001b[1;32m     21\u001b[0m \u001b[38;5;66;03m# filter the dataframe to only names ed and alan\u001b[39;00m\n",
      "\u001b[0;31mNameError\u001b[0m: name 'new' is not defined"
     ]
    }
   ],
   "source": [
    "# select the subset of columns pet, name - as a new dataframe\n",
    "new = df[[\"pet\", \"name\"]].copy(deep=True)\n",
    "new\n",
    "\n",
    "# select only cats\n",
    "display(new[new[\"pet\"] == \"cat\"])\n",
    "\n",
    "# set the index to name - perminantly\n",
    "new = new.set_index(\"name\")\n",
    "# alt: new.set_index(\"name\", inplace=True)\n",
    "\n",
    "# reset the index - perminantly\n",
    "new = new.reset_index()\n",
    "# alt: new.reset_index(inplace=True)\n",
    "\n",
    "# delete new\n",
    "del new\n",
    "display(new) # this should fail!"
   ]
  },
  {
   "cell_type": "markdown",
   "id": "b0a0cd87-7cb6-41ed-960f-46852419fc9b",
   "metadata": {},
   "source": [
    "### DataFrame Filtering"
   ]
  },
  {
   "cell_type": "code",
   "execution_count": 143,
   "id": "df2befab-2206-440a-94b1-a59dfd3d9ac2",
   "metadata": {},
   "outputs": [
    {
     "data": {
      "text/html": [
       "<div>\n",
       "<style scoped>\n",
       "    .dataframe tbody tr th:only-of-type {\n",
       "        vertical-align: middle;\n",
       "    }\n",
       "\n",
       "    .dataframe tbody tr th {\n",
       "        vertical-align: top;\n",
       "    }\n",
       "\n",
       "    .dataframe thead th {\n",
       "        text-align: right;\n",
       "    }\n",
       "</style>\n",
       "<table border=\"1\" class=\"dataframe\">\n",
       "  <thead>\n",
       "    <tr style=\"text-align: right;\">\n",
       "      <th></th>\n",
       "      <th>pet</th>\n",
       "      <th>height</th>\n",
       "      <th>length</th>\n",
       "      <th>name</th>\n",
       "    </tr>\n",
       "  </thead>\n",
       "  <tbody>\n",
       "    <tr>\n",
       "      <th>4</th>\n",
       "      <td>bird</td>\n",
       "      <td>0.3</td>\n",
       "      <td>0.1</td>\n",
       "      <td>ed</td>\n",
       "    </tr>\n",
       "    <tr>\n",
       "      <th>0</th>\n",
       "      <td>cat</td>\n",
       "      <td>1.0</td>\n",
       "      <td>1.6</td>\n",
       "      <td>alan</td>\n",
       "    </tr>\n",
       "  </tbody>\n",
       "</table>\n",
       "</div>"
      ],
      "text/plain": [
       "    pet  height  length  name\n",
       "4  bird     0.3     0.1    ed\n",
       "0   cat     1.0     1.6  alan"
      ]
     },
     "execution_count": 143,
     "metadata": {},
     "output_type": "execute_result"
    }
   ],
   "source": [
    "# filter the dataframe to only dogs\n",
    "df[df[\"pet\"] == \"dog\"]\n",
    "\n",
    "# filter the dataframe to only height >= 1\n",
    "df[df[\"height\"] >= 1]\n",
    "\n",
    "# filter the dataframe to only names ed and alan\n",
    "df[df[\"name\"].isin([\"ed\", \"alan\"])]"
   ]
  },
  {
   "cell_type": "markdown",
   "id": "fb0e0042-9953-4e3e-9f04-784bc16cd886",
   "metadata": {},
   "source": [
    "### String Operations"
   ]
  },
  {
   "cell_type": "code",
   "execution_count": 151,
   "id": "6648eda5-68f1-4528-a349-7fd257361644",
   "metadata": {},
   "outputs": [
    {
     "data": {
      "text/html": [
       "<div>\n",
       "<style scoped>\n",
       "    .dataframe tbody tr th:only-of-type {\n",
       "        vertical-align: middle;\n",
       "    }\n",
       "\n",
       "    .dataframe tbody tr th {\n",
       "        vertical-align: top;\n",
       "    }\n",
       "\n",
       "    .dataframe thead th {\n",
       "        text-align: right;\n",
       "    }\n",
       "</style>\n",
       "<table border=\"1\" class=\"dataframe\">\n",
       "  <thead>\n",
       "    <tr style=\"text-align: right;\">\n",
       "      <th></th>\n",
       "      <th>PET</th>\n",
       "      <th>HEIGHT</th>\n",
       "      <th>LENGTH</th>\n",
       "      <th>NAME</th>\n",
       "    </tr>\n",
       "  </thead>\n",
       "  <tbody>\n",
       "    <tr>\n",
       "      <th>4</th>\n",
       "      <td>bird</td>\n",
       "      <td>0.3</td>\n",
       "      <td>0.1</td>\n",
       "      <td>ed</td>\n",
       "    </tr>\n",
       "    <tr>\n",
       "      <th>3</th>\n",
       "      <td>cat</td>\n",
       "      <td>0.9</td>\n",
       "      <td>1.0</td>\n",
       "      <td>dave</td>\n",
       "    </tr>\n",
       "    <tr>\n",
       "      <th>0</th>\n",
       "      <td>cat</td>\n",
       "      <td>1.0</td>\n",
       "      <td>1.6</td>\n",
       "      <td>alan</td>\n",
       "    </tr>\n",
       "    <tr>\n",
       "      <th>2</th>\n",
       "      <td>cat</td>\n",
       "      <td>1.2</td>\n",
       "      <td>1.5</td>\n",
       "      <td>chris</td>\n",
       "    </tr>\n",
       "    <tr>\n",
       "      <th>1</th>\n",
       "      <td>dog</td>\n",
       "      <td>2.0</td>\n",
       "      <td>2.2</td>\n",
       "      <td>bob</td>\n",
       "    </tr>\n",
       "  </tbody>\n",
       "</table>\n",
       "</div>"
      ],
      "text/plain": [
       "    PET  HEIGHT  LENGTH   NAME\n",
       "4  bird     0.3     0.1     ed\n",
       "3   cat     0.9     1.0   dave\n",
       "0   cat     1.0     1.6   alan\n",
       "2   cat     1.2     1.5  chris\n",
       "1   dog     2.0     2.2    bob"
      ]
     },
     "metadata": {},
     "output_type": "display_data"
    },
    {
     "data": {
      "text/html": [
       "<div>\n",
       "<style scoped>\n",
       "    .dataframe tbody tr th:only-of-type {\n",
       "        vertical-align: middle;\n",
       "    }\n",
       "\n",
       "    .dataframe tbody tr th {\n",
       "        vertical-align: top;\n",
       "    }\n",
       "\n",
       "    .dataframe thead th {\n",
       "        text-align: right;\n",
       "    }\n",
       "</style>\n",
       "<table border=\"1\" class=\"dataframe\">\n",
       "  <thead>\n",
       "    <tr style=\"text-align: right;\">\n",
       "      <th></th>\n",
       "      <th>pet</th>\n",
       "      <th>height</th>\n",
       "      <th>length</th>\n",
       "      <th>name</th>\n",
       "    </tr>\n",
       "  </thead>\n",
       "  <tbody>\n",
       "    <tr>\n",
       "      <th>4</th>\n",
       "      <td>bird</td>\n",
       "      <td>0.3</td>\n",
       "      <td>0.1</td>\n",
       "      <td>Ed</td>\n",
       "    </tr>\n",
       "    <tr>\n",
       "      <th>3</th>\n",
       "      <td>cat</td>\n",
       "      <td>0.9</td>\n",
       "      <td>1.0</td>\n",
       "      <td>Dave</td>\n",
       "    </tr>\n",
       "    <tr>\n",
       "      <th>0</th>\n",
       "      <td>cat</td>\n",
       "      <td>1.0</td>\n",
       "      <td>1.6</td>\n",
       "      <td>Alan</td>\n",
       "    </tr>\n",
       "    <tr>\n",
       "      <th>2</th>\n",
       "      <td>cat</td>\n",
       "      <td>1.2</td>\n",
       "      <td>1.5</td>\n",
       "      <td>Chris</td>\n",
       "    </tr>\n",
       "    <tr>\n",
       "      <th>1</th>\n",
       "      <td>dog</td>\n",
       "      <td>2.0</td>\n",
       "      <td>2.2</td>\n",
       "      <td>Bob</td>\n",
       "    </tr>\n",
       "  </tbody>\n",
       "</table>\n",
       "</div>"
      ],
      "text/plain": [
       "    pet  height  length   name\n",
       "4  bird     0.3     0.1     Ed\n",
       "3   cat     0.9     1.0   Dave\n",
       "0   cat     1.0     1.6   Alan\n",
       "2   cat     1.2     1.5  Chris\n",
       "1   dog     2.0     2.2    Bob"
      ]
     },
     "metadata": {},
     "output_type": "display_data"
    }
   ],
   "source": [
    "# rename all the columns to be uppercase\n",
    "df.columns = [c.upper() for c in df.columns]\n",
    "display(df)\n",
    "\n",
    "# set all the columns back to lowercase\n",
    "df.columns = [c.lower() for c in df.columns]\n",
    "\n",
    "# rename all the names to be capitalized HINT check string methods\n",
    "# set the capatalized values as the values in the df!\n",
    "df[\"name\"] = df[\"name\"].str.capitalize()\n",
    "display(df)"
   ]
  },
  {
   "cell_type": "code",
   "execution_count": null,
   "id": "30fad397-fba7-4fa3-af7a-b65d05a47a8e",
   "metadata": {},
   "outputs": [],
   "source": []
  }
 ],
 "metadata": {
  "kernelspec": {
   "display_name": "Python 3 (ipykernel)",
   "language": "python",
   "name": "python3"
  },
  "language_info": {
   "codemirror_mode": {
    "name": "ipython",
    "version": 3
   },
   "file_extension": ".py",
   "mimetype": "text/x-python",
   "name": "python",
   "nbconvert_exporter": "python",
   "pygments_lexer": "ipython3",
   "version": "3.9.13"
  }
 },
 "nbformat": 4,
 "nbformat_minor": 5
}
