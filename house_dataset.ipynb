{
 "cells": [
  {
   "cell_type": "markdown",
   "id": "60448c9f-0356-4377-9745-9d2eefdd9cb2",
   "metadata": {},
   "source": [
    "# Housing Data Project - Dealing with Nulls & Categorical Encodings\n",
    "This dataset is [here](https://www.kaggle.com/competitions/house-prices-advanced-regression-techniques/data)"
   ]
  },
  {
   "cell_type": "code",
   "execution_count": 1,
   "id": "41e889cb-f4cc-4784-a80a-2b55190cb8c7",
   "metadata": {},
   "outputs": [],
   "source": [
    "import pandas as pd\n",
    "import numpy as np"
   ]
  },
  {
   "cell_type": "code",
   "execution_count": 2,
   "id": "46f84518-f4d4-4f7e-b144-9a772296da51",
   "metadata": {
    "scrolled": true
   },
   "outputs": [
    {
     "name": "stdout",
     "output_type": "stream",
     "text": [
      "<class 'pandas.core.frame.DataFrame'>\n",
      "Int64Index: 1460 entries, 1 to 1460\n",
      "Data columns (total 80 columns):\n",
      " #   Column         Non-Null Count  Dtype  \n",
      "---  ------         --------------  -----  \n",
      " 0   MSSubClass     1460 non-null   int64  \n",
      " 1   MSZoning       1460 non-null   object \n",
      " 2   LotFrontage    1201 non-null   float64\n",
      " 3   LotArea        1460 non-null   int64  \n",
      " 4   Street         1460 non-null   object \n",
      " 5   Alley          91 non-null     object \n",
      " 6   LotShape       1460 non-null   object \n",
      " 7   LandContour    1460 non-null   object \n",
      " 8   Utilities      1460 non-null   object \n",
      " 9   LotConfig      1460 non-null   object \n",
      " 10  LandSlope      1460 non-null   object \n",
      " 11  Neighborhood   1460 non-null   object \n",
      " 12  Condition1     1460 non-null   object \n",
      " 13  Condition2     1460 non-null   object \n",
      " 14  BldgType       1460 non-null   object \n",
      " 15  HouseStyle     1460 non-null   object \n",
      " 16  OverallQual    1460 non-null   int64  \n",
      " 17  OverallCond    1460 non-null   int64  \n",
      " 18  YearBuilt      1460 non-null   int64  \n",
      " 19  YearRemodAdd   1460 non-null   int64  \n",
      " 20  RoofStyle      1460 non-null   object \n",
      " 21  RoofMatl       1460 non-null   object \n",
      " 22  Exterior1st    1460 non-null   object \n",
      " 23  Exterior2nd    1460 non-null   object \n",
      " 24  MasVnrType     1452 non-null   object \n",
      " 25  MasVnrArea     1452 non-null   float64\n",
      " 26  ExterQual      1460 non-null   object \n",
      " 27  ExterCond      1460 non-null   object \n",
      " 28  Foundation     1460 non-null   object \n",
      " 29  BsmtQual       1423 non-null   object \n",
      " 30  BsmtCond       1423 non-null   object \n",
      " 31  BsmtExposure   1422 non-null   object \n",
      " 32  BsmtFinType1   1423 non-null   object \n",
      " 33  BsmtFinSF1     1460 non-null   int64  \n",
      " 34  BsmtFinType2   1422 non-null   object \n",
      " 35  BsmtFinSF2     1460 non-null   int64  \n",
      " 36  BsmtUnfSF      1460 non-null   int64  \n",
      " 37  TotalBsmtSF    1460 non-null   int64  \n",
      " 38  Heating        1460 non-null   object \n",
      " 39  HeatingQC      1460 non-null   object \n",
      " 40  CentralAir     1460 non-null   object \n",
      " 41  Electrical     1459 non-null   object \n",
      " 42  1stFlrSF       1460 non-null   int64  \n",
      " 43  2ndFlrSF       1460 non-null   int64  \n",
      " 44  LowQualFinSF   1460 non-null   int64  \n",
      " 45  GrLivArea      1460 non-null   int64  \n",
      " 46  BsmtFullBath   1460 non-null   int64  \n",
      " 47  BsmtHalfBath   1460 non-null   int64  \n",
      " 48  FullBath       1460 non-null   int64  \n",
      " 49  HalfBath       1460 non-null   int64  \n",
      " 50  BedroomAbvGr   1460 non-null   int64  \n",
      " 51  KitchenAbvGr   1460 non-null   int64  \n",
      " 52  KitchenQual    1460 non-null   object \n",
      " 53  TotRmsAbvGrd   1460 non-null   int64  \n",
      " 54  Functional     1460 non-null   object \n",
      " 55  Fireplaces     1460 non-null   int64  \n",
      " 56  FireplaceQu    770 non-null    object \n",
      " 57  GarageType     1379 non-null   object \n",
      " 58  GarageYrBlt    1379 non-null   float64\n",
      " 59  GarageFinish   1379 non-null   object \n",
      " 60  GarageCars     1460 non-null   int64  \n",
      " 61  GarageArea     1460 non-null   int64  \n",
      " 62  GarageQual     1379 non-null   object \n",
      " 63  GarageCond     1379 non-null   object \n",
      " 64  PavedDrive     1460 non-null   object \n",
      " 65  WoodDeckSF     1460 non-null   int64  \n",
      " 66  OpenPorchSF    1460 non-null   int64  \n",
      " 67  EnclosedPorch  1460 non-null   int64  \n",
      " 68  3SsnPorch      1460 non-null   int64  \n",
      " 69  ScreenPorch    1460 non-null   int64  \n",
      " 70  PoolArea       1460 non-null   int64  \n",
      " 71  PoolQC         7 non-null      object \n",
      " 72  Fence          281 non-null    object \n",
      " 73  MiscFeature    54 non-null     object \n",
      " 74  MiscVal        1460 non-null   int64  \n",
      " 75  MoSold         1460 non-null   int64  \n",
      " 76  YrSold         1460 non-null   int64  \n",
      " 77  SaleType       1460 non-null   object \n",
      " 78  SaleCondition  1460 non-null   object \n",
      " 79  SalePrice      1460 non-null   int64  \n",
      "dtypes: float64(3), int64(34), object(43)\n",
      "memory usage: 923.9+ KB\n"
     ]
    }
   ],
   "source": [
    "train = pd.read_csv(\"house-prices/train.csv\", index_col=\"Id\")\n",
    "train.info()"
   ]
  },
  {
   "cell_type": "code",
   "execution_count": 127,
   "id": "7bb21bcd-0978-4274-85d8-41e6ff929d2c",
   "metadata": {},
   "outputs": [
    {
     "data": {
      "text/html": [
       "<div>\n",
       "<style scoped>\n",
       "    .dataframe tbody tr th:only-of-type {\n",
       "        vertical-align: middle;\n",
       "    }\n",
       "\n",
       "    .dataframe tbody tr th {\n",
       "        vertical-align: top;\n",
       "    }\n",
       "\n",
       "    .dataframe thead th {\n",
       "        text-align: right;\n",
       "    }\n",
       "</style>\n",
       "<table border=\"1\" class=\"dataframe\">\n",
       "  <thead>\n",
       "    <tr style=\"text-align: right;\">\n",
       "      <th></th>\n",
       "      <th>MSSubClass</th>\n",
       "      <th>MSZoning</th>\n",
       "      <th>LotFrontage</th>\n",
       "      <th>LotArea</th>\n",
       "      <th>Street</th>\n",
       "      <th>Alley</th>\n",
       "      <th>LotShape</th>\n",
       "      <th>LandContour</th>\n",
       "      <th>Utilities</th>\n",
       "      <th>LotConfig</th>\n",
       "      <th>...</th>\n",
       "      <th>PoolArea</th>\n",
       "      <th>PoolQC</th>\n",
       "      <th>Fence</th>\n",
       "      <th>MiscFeature</th>\n",
       "      <th>MiscVal</th>\n",
       "      <th>MoSold</th>\n",
       "      <th>YrSold</th>\n",
       "      <th>SaleType</th>\n",
       "      <th>SaleCondition</th>\n",
       "      <th>SalePrice</th>\n",
       "    </tr>\n",
       "    <tr>\n",
       "      <th>Id</th>\n",
       "      <th></th>\n",
       "      <th></th>\n",
       "      <th></th>\n",
       "      <th></th>\n",
       "      <th></th>\n",
       "      <th></th>\n",
       "      <th></th>\n",
       "      <th></th>\n",
       "      <th></th>\n",
       "      <th></th>\n",
       "      <th></th>\n",
       "      <th></th>\n",
       "      <th></th>\n",
       "      <th></th>\n",
       "      <th></th>\n",
       "      <th></th>\n",
       "      <th></th>\n",
       "      <th></th>\n",
       "      <th></th>\n",
       "      <th></th>\n",
       "      <th></th>\n",
       "    </tr>\n",
       "  </thead>\n",
       "  <tbody>\n",
       "    <tr>\n",
       "      <th>1</th>\n",
       "      <td>60</td>\n",
       "      <td>RL</td>\n",
       "      <td>65.0</td>\n",
       "      <td>8450</td>\n",
       "      <td>Pave</td>\n",
       "      <td>NaN</td>\n",
       "      <td>Reg</td>\n",
       "      <td>Lvl</td>\n",
       "      <td>AllPub</td>\n",
       "      <td>Inside</td>\n",
       "      <td>...</td>\n",
       "      <td>0</td>\n",
       "      <td>NaN</td>\n",
       "      <td>NaN</td>\n",
       "      <td>NaN</td>\n",
       "      <td>0</td>\n",
       "      <td>2</td>\n",
       "      <td>2008</td>\n",
       "      <td>WD</td>\n",
       "      <td>Normal</td>\n",
       "      <td>208500</td>\n",
       "    </tr>\n",
       "    <tr>\n",
       "      <th>2</th>\n",
       "      <td>20</td>\n",
       "      <td>RL</td>\n",
       "      <td>80.0</td>\n",
       "      <td>9600</td>\n",
       "      <td>Pave</td>\n",
       "      <td>NaN</td>\n",
       "      <td>Reg</td>\n",
       "      <td>Lvl</td>\n",
       "      <td>AllPub</td>\n",
       "      <td>FR2</td>\n",
       "      <td>...</td>\n",
       "      <td>0</td>\n",
       "      <td>NaN</td>\n",
       "      <td>NaN</td>\n",
       "      <td>NaN</td>\n",
       "      <td>0</td>\n",
       "      <td>5</td>\n",
       "      <td>2007</td>\n",
       "      <td>WD</td>\n",
       "      <td>Normal</td>\n",
       "      <td>181500</td>\n",
       "    </tr>\n",
       "    <tr>\n",
       "      <th>3</th>\n",
       "      <td>60</td>\n",
       "      <td>RL</td>\n",
       "      <td>68.0</td>\n",
       "      <td>11250</td>\n",
       "      <td>Pave</td>\n",
       "      <td>NaN</td>\n",
       "      <td>IR1</td>\n",
       "      <td>Lvl</td>\n",
       "      <td>AllPub</td>\n",
       "      <td>Inside</td>\n",
       "      <td>...</td>\n",
       "      <td>0</td>\n",
       "      <td>NaN</td>\n",
       "      <td>NaN</td>\n",
       "      <td>NaN</td>\n",
       "      <td>0</td>\n",
       "      <td>9</td>\n",
       "      <td>2008</td>\n",
       "      <td>WD</td>\n",
       "      <td>Normal</td>\n",
       "      <td>223500</td>\n",
       "    </tr>\n",
       "    <tr>\n",
       "      <th>4</th>\n",
       "      <td>70</td>\n",
       "      <td>RL</td>\n",
       "      <td>60.0</td>\n",
       "      <td>9550</td>\n",
       "      <td>Pave</td>\n",
       "      <td>NaN</td>\n",
       "      <td>IR1</td>\n",
       "      <td>Lvl</td>\n",
       "      <td>AllPub</td>\n",
       "      <td>Corner</td>\n",
       "      <td>...</td>\n",
       "      <td>0</td>\n",
       "      <td>NaN</td>\n",
       "      <td>NaN</td>\n",
       "      <td>NaN</td>\n",
       "      <td>0</td>\n",
       "      <td>2</td>\n",
       "      <td>2006</td>\n",
       "      <td>WD</td>\n",
       "      <td>Abnorml</td>\n",
       "      <td>140000</td>\n",
       "    </tr>\n",
       "    <tr>\n",
       "      <th>5</th>\n",
       "      <td>60</td>\n",
       "      <td>RL</td>\n",
       "      <td>84.0</td>\n",
       "      <td>14260</td>\n",
       "      <td>Pave</td>\n",
       "      <td>NaN</td>\n",
       "      <td>IR1</td>\n",
       "      <td>Lvl</td>\n",
       "      <td>AllPub</td>\n",
       "      <td>FR2</td>\n",
       "      <td>...</td>\n",
       "      <td>0</td>\n",
       "      <td>NaN</td>\n",
       "      <td>NaN</td>\n",
       "      <td>NaN</td>\n",
       "      <td>0</td>\n",
       "      <td>12</td>\n",
       "      <td>2008</td>\n",
       "      <td>WD</td>\n",
       "      <td>Normal</td>\n",
       "      <td>250000</td>\n",
       "    </tr>\n",
       "  </tbody>\n",
       "</table>\n",
       "<p>5 rows × 80 columns</p>\n",
       "</div>"
      ],
      "text/plain": [
       "    MSSubClass MSZoning  LotFrontage  LotArea Street Alley LotShape  \\\n",
       "Id                                                                    \n",
       "1           60       RL         65.0     8450   Pave   NaN      Reg   \n",
       "2           20       RL         80.0     9600   Pave   NaN      Reg   \n",
       "3           60       RL         68.0    11250   Pave   NaN      IR1   \n",
       "4           70       RL         60.0     9550   Pave   NaN      IR1   \n",
       "5           60       RL         84.0    14260   Pave   NaN      IR1   \n",
       "\n",
       "   LandContour Utilities LotConfig  ... PoolArea PoolQC Fence MiscFeature  \\\n",
       "Id                                  ...                                     \n",
       "1          Lvl    AllPub    Inside  ...        0    NaN   NaN         NaN   \n",
       "2          Lvl    AllPub       FR2  ...        0    NaN   NaN         NaN   \n",
       "3          Lvl    AllPub    Inside  ...        0    NaN   NaN         NaN   \n",
       "4          Lvl    AllPub    Corner  ...        0    NaN   NaN         NaN   \n",
       "5          Lvl    AllPub       FR2  ...        0    NaN   NaN         NaN   \n",
       "\n",
       "   MiscVal MoSold  YrSold  SaleType  SaleCondition  SalePrice  \n",
       "Id                                                             \n",
       "1        0      2    2008        WD         Normal     208500  \n",
       "2        0      5    2007        WD         Normal     181500  \n",
       "3        0      9    2008        WD         Normal     223500  \n",
       "4        0      2    2006        WD        Abnorml     140000  \n",
       "5        0     12    2008        WD         Normal     250000  \n",
       "\n",
       "[5 rows x 80 columns]"
      ]
     },
     "execution_count": 127,
     "metadata": {},
     "output_type": "execute_result"
    }
   ],
   "source": [
    "train.head()"
   ]
  },
  {
   "cell_type": "code",
   "execution_count": 124,
   "id": "cc8236d8-e3fc-4bd7-9c09-ab75b5d30b69",
   "metadata": {},
   "outputs": [],
   "source": [
    "# a peak at the target distribution\n",
    "# train[\"SalePrice\"].plot(kind=\"hist\", bins=20, grid=True);"
   ]
  },
  {
   "cell_type": "markdown",
   "id": "a46526b5-ccd2-4a37-b669-541c6e0f24e7",
   "metadata": {},
   "source": [
    "# Dealing with NULL data"
   ]
  },
  {
   "cell_type": "markdown",
   "id": "5c669358-3cd2-463e-86a9-ef629aec9eac",
   "metadata": {},
   "source": [
    "## Strategy 1 - Drop Nulls\n",
    "Throw data away. We can simply drop all NULL values... or drop a row / column if there are too many NULL values.\n",
    "- This is a bad idea, we might have 99% good info (enough to make a good decision) and don't want to abandon that observation. - We could drop rows or columns with > some % null values.\n",
    "  - This can make sense, especially for a row with nearly no information.\n",
    "  - For a column, we need to be careful, sometimes rare events have a ton of information.\n",
    "  - e.g. imagine a driving risk prediction with a DUI column. Few drivers will have a DUI so the data may be mostly null; however it will highly impact the risk for those drivers where DUI is present.\n",
    " \n",
    "**This is easy to code.. but ultimately not a great idea**"
   ]
  },
  {
   "cell_type": "code",
   "execution_count": 117,
   "id": "1f0f3298-2428-40d8-bb1d-9d5564dfd530",
   "metadata": {},
   "outputs": [],
   "source": [
    "# drop all null values\n",
    "train.dropna(how=\"any\") # drop all rows with a null value (axis=0 by default)\n",
    "train.dropna(how=\"any\", axis=1) # drop all columns with a null value\n",
    "\n",
    "# drop based on a threshold\n",
    "thresh = .1\n",
    "train.dropna(thresh=int(thresh * train.shape[0])), axis=0) # drop all rows with > 10% null data\n",
    "train.dropna(thresh=int(thresh * train.shape[1])), axis=1) # drop all columns with > 10% null data"
   ]
  },
  {
   "cell_type": "markdown",
   "id": "26ec886a-01bc-42ca-a7c1-c85a948f8dce",
   "metadata": {},
   "source": [
    "## Strategy 2 - Impute (fill) NULLS\n",
    "This involves some \"guess work\", often we make our guesses very simple. For numeric data we guess the average, for categorical data we guess the most frequently occuring category.\n",
    "\n",
    "- Note that the implementation is different for numerical & categorical data\n",
    "- e.g. mean / median vs. top frequency\n",
    "\n",
    "**A note of caution**\n",
    "The issue with this approach is that sometimes NULL data has information, i.e. you can learn something by the fact data is not present. If we impute (i.e. fill) in the nulls, then we may be throwing away information (by over-writing it).\n",
    "- we can improve on this by 1st capturing NULL data as a binary indicator column e.g. `col_a` -> `col_a_na`\n",
    "  - we create a new column `col_a_na` which has a 1 when `col_a` has a null and a 0 otherwise\n",
    "  - *then* we can impute the NULL value in the column\n",
    "  - essentially we have lost no information, and if NULL data contains information the model can use it... otherwise we can ignore the `col_a_na` column after reviewing the model"
   ]
  },
  {
   "cell_type": "markdown",
   "id": "a686370f-b133-4b2f-a700-b0faf3eb1c2a",
   "metadata": {},
   "source": [
    "#### Simply filling in values"
   ]
  },
  {
   "cell_type": "code",
   "execution_count": 119,
   "id": "758aa90c-1bce-4bfe-881b-f923fe425832",
   "metadata": {},
   "outputs": [],
   "source": [
    "# impute the mean for numeric nulls\n",
    "num_col = train.select_dtypes(include=[np.number]).columns\n",
    "# it is a BEST practice to have this lookup to apply it to future data\n",
    "num_lookup = train[num_col].mean().to_dict()\n",
    "train.fillna(value=num_lookup, inplace=True)\n",
    "\n",
    "# capture the top frequency for categorical columns (mode)\n",
    "cat_cols = train.select_dtypes(exclude=[np.number]).columns\n",
    "# this lookup is a dict of the key=column name value = column mode (most freq value)\n",
    "# it is a BEST practice to have this lookup to apply it to future data\n",
    "cat_lookup = train[cat_cols].mode().T.to_dict()[0]\n",
    "train.fillna(value=cat_lookup, inplace=True)\n",
    "\n",
    "# train.info()"
   ]
  },
  {
   "cell_type": "markdown",
   "id": "19a2beed-3b79-4e59-ad4c-87f831ce7418",
   "metadata": {},
   "source": [
    "#### More advanced - Create NA column, then fill in"
   ]
  },
  {
   "cell_type": "code",
   "execution_count": null,
   "id": "71b1aac4-8e94-4fee-a2da-23fadd3cce46",
   "metadata": {},
   "outputs": [],
   "source": [
    "# create binary indicators for all columns with NULL values\n",
    "\n",
    "# a BEST practice is to capture the newly created na columns - for future datasets\n",
    "na_cols = []\n",
    "for col in train.columns:\n",
    "    nan = train[col].isna() # array of nan values (bool)\n",
    "    if nan.sum() > 0:\n",
    "        name = f\"{col}_na\"\n",
    "        train[name] = nan.astype(int)\n",
    "        na_cols.append(name)\n",
    "\n",
    "\n",
    "# then we can run the same code as above! doing this 1st we lose zero information"
   ]
  },
  {
   "cell_type": "markdown",
   "id": "1014bb7b-17ab-4b36-bebb-96812fadcfda",
   "metadata": {
    "jp-MarkdownHeadingCollapsed": true
   },
   "source": [
    "## Strategy 3 - Modeling\n",
    "This is far too advanced for now... but the concept is worth a couple words\n",
    "- imputed values above are highly naieve\n",
    "- simple models for \"guessing\" the values are potentially MUCH more effective\n",
    "- e.g. we could create a simple rule for filling in a null value\n",
    "- but building models to prepare for building models is way beyond the scope of what we're doing here\n",
    "- just know that we *could* do this"
   ]
  },
  {
   "cell_type": "markdown",
   "id": "c1768b8c-2ce8-4deb-a81e-11a646d5fc4d",
   "metadata": {},
   "source": [
    "# Dealing with Categorical Data"
   ]
  },
  {
   "cell_type": "markdown",
   "id": "0cc38f0d-d410-4589-ab81-221e587adfe5",
   "metadata": {},
   "source": [
    "### Strategy 1. Drop all Non-Numeric Columns\n",
    "This is easy to do... but throws information away (which is bad)\n",
    "```\n",
    "44676.07 RMSE\n",
    "0.69 r2\n",
    "```"
   ]
  },
  {
   "cell_type": "code",
   "execution_count": 82,
   "id": "16ac114f-876c-4c88-8767-8f56a4d5c3f9",
   "metadata": {},
   "outputs": [],
   "source": [
    "# find all numeric columns\n",
    "# NOTE the function returns the df of the selected dtypes\n",
    "train = train.select_dtypes(include=[np.number])\n",
    "\n",
    "# are there still null values?  YES - there are still NULLS\n",
    "# train.info()"
   ]
  },
  {
   "cell_type": "markdown",
   "id": "2d475125-c845-4c7c-bcb4-9b34f183882b",
   "metadata": {},
   "source": [
    "### Strategy 2. Encode All Categories as One Hot Encoding\n",
    "This is a decent strategy for \"unordered\" categories - but its not great for 'ordered' categories (e.g. S, M, L)\n",
    "\n",
    "\n",
    "The overall scores improved (adding in categorical data, we decreased the averager amount of error by approx $800\n",
    "```\n",
    "43877.06 RMSE\n",
    "0.70 r2\n",
    "```"
   ]
  },
  {
   "cell_type": "code",
   "execution_count": 69,
   "id": "6926a5bd-a123-4f37-af51-7f751a607a56",
   "metadata": {},
   "outputs": [],
   "source": [
    "# select all the categorical columns\n",
    "cat_cols = train.select_dtypes(include=[pd.Categorical]).columns\n",
    "\n",
    "# NOTE we can deal with NULL data here! create a null column\n",
    "train = pd.get_dummies(train, columns=cat_cols, dummy_na=True, dtype=int)"
   ]
  },
  {
   "cell_type": "code",
   "execution_count": null,
   "id": "9dc5c09d-3d46-48d4-aa2c-2381071eaed7",
   "metadata": {},
   "outputs": [],
   "source": []
  },
  {
   "cell_type": "code",
   "execution_count": null,
   "id": "9d528bca-de39-4865-9ce3-bd8aef6113c3",
   "metadata": {},
   "outputs": [],
   "source": []
  },
  {
   "cell_type": "markdown",
   "id": "d56cc1db-b40c-46ef-9efc-af62d4b4bb77",
   "metadata": {
    "jp-MarkdownHeadingCollapsed": true
   },
   "source": [
    "# Build a Model"
   ]
  },
  {
   "cell_type": "code",
   "execution_count": 128,
   "id": "69c776fb-26ac-49c6-b4bc-82ea4508aafd",
   "metadata": {},
   "outputs": [],
   "source": [
    "from sklearn.ensemble import RandomForestRegressor\n",
    "from sklearn.model_selection import train_test_split"
   ]
  },
  {
   "cell_type": "markdown",
   "id": "e35ba383-87c0-4c60-a34f-c048da819c79",
   "metadata": {},
   "source": [
    "### Stratify Split Train into Train & Tune"
   ]
  },
  {
   "cell_type": "code",
   "execution_count": 70,
   "id": "2074469c-3035-46bf-be78-404fd25de160",
   "metadata": {},
   "outputs": [],
   "source": [
    "TARGET = \"SalePrice\"\n",
    "\n",
    "# to support stratification - bin the continuous variable\n",
    "cuts, bins = pd.qcut(train[TARGET], q=5, retbins=True, labels=list(range(5)))\n",
    "train['bins'] = cuts\n",
    "\n",
    "# train['bins'].value_counts(normalize=True)\n",
    "x_train, x_tune = train_test_split(train, test_size=.25, stratify=train['bins'], random_state=0)\n",
    "\n",
    "x_train.drop(columns=[\"bins\"], inplace=True)\n",
    "x_tune.drop(columns=[\"bins\"], inplace=True)\n",
    "\n",
    "y_train = x_train.pop(TARGET)\n",
    "y_tune = x_tune.pop(TARGET)"
   ]
  },
  {
   "cell_type": "code",
   "execution_count": 71,
   "id": "b0a52a37-d73f-4c03-a1d4-93f88a89596c",
   "metadata": {},
   "outputs": [],
   "source": [
    "rf = RandomForestRegressor(n_estimators=100, max_depth=5, random_state=0).fit(x_train, y_train)"
   ]
  },
  {
   "cell_type": "markdown",
   "id": "4532c9c2-1a13-45bc-a5e0-c502e583b384",
   "metadata": {
    "jp-MarkdownHeadingCollapsed": true
   },
   "source": [
    "# Evaluate the Model"
   ]
  },
  {
   "cell_type": "code",
   "execution_count": 72,
   "id": "bc960952-cd37-4a9e-97fa-3d1464145e51",
   "metadata": {},
   "outputs": [],
   "source": [
    "from sklearn.metrics import root_mean_squared_error, r2_score"
   ]
  },
  {
   "cell_type": "code",
   "execution_count": 73,
   "id": "244bd8c6-c49f-4b13-a5ba-dfae8c779d89",
   "metadata": {},
   "outputs": [
    {
     "name": "stdout",
     "output_type": "stream",
     "text": [
      "43877.06 RMSE\n",
      "0.70 r2\n"
     ]
    }
   ],
   "source": [
    "y_true = y_tune\n",
    "y_pred = rf.predict(x_tune)\n",
    "\n",
    "rmse = root_mean_squared_error(y_true=y_true, y_pred=y_pred)\n",
    "r2 = r2_score(y_true=y_true, y_pred=y_pred)\n",
    "\n",
    "print(f\"{rmse:.2f} RMSE\")\n",
    "print(f\"{r2:.2f} r2\")"
   ]
  },
  {
   "cell_type": "code",
   "execution_count": 74,
   "id": "64462fbf-4cf9-47f8-934b-027b462011ec",
   "metadata": {},
   "outputs": [
    {
     "data": {
      "image/png": "[encoded data removed]",
      "text/plain": [
       "<Figure size 640x480 with 1 Axes>"
      ]
     },
     "metadata": {},
     "output_type": "display_data"
    }
   ],
   "source": [
    "# NOTE a MUCH BETTER PLOT would force x and y to have the same scaled axis (i.e. ticks are 1:1)\n",
    "pd.DataFrame({\"y_true\": y_true, \"y_pred\": y_pred}).plot(kind=\"scatter\", x=\"y_pred\", y=\"y_true\", grid=True);"
   ]
  },
  {
   "cell_type": "code",
   "execution_count": null,
   "id": "340c3a3a-9a49-4651-b7ea-e57182bf9d97",
   "metadata": {},
   "outputs": [],
   "source": []
  }
 ],
 "metadata": {
  "kernelspec": {
   "display_name": "Python 3 (ipykernel)",
   "language": "python",
   "name": "python3"
  },
  "language_info": {
   "codemirror_mode": {
    "name": "ipython",
    "version": 3
   },
   "file_extension": ".py",
   "mimetype": "text/x-python",
   "name": "python",
   "nbconvert_exporter": "python",
   "pygments_lexer": "ipython3",
   "version": "3.9.13"
  }
 },
 "nbformat": 4,
 "nbformat_minor": 5
}
